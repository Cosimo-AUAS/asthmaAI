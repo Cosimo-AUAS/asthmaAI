{
 "cells": [
  {
   "cell_type": "code",
   "execution_count": 3,
   "metadata": {},
   "outputs": [],
   "source": [
    "import pandas as pd\n",
    "import numpy as np\n",
    "from sklearn.neighbors import NearestNeighbors\n",
    "import matplotlib.pyplot as plt\n",
    "from sklearn import linear_model\n",
    "import sys\n",
    "from collections import Counter"
   ]
  },
  {
   "cell_type": "code",
   "execution_count": 7,
   "metadata": {},
   "outputs": [
    {
     "name": "stdout",
     "output_type": "stream",
     "text": [
      "(1510, 10)\n",
      "1265\n"
     ]
    }
   ],
   "source": [
    "datafile1 = open('results-20181005-221531.csv', 'r') \n",
    "f= pd.read_csv(datafile1)\n",
    "\n",
    "f.head()\n",
    "#f['more_than_one_encounter'] = f['more_than_one_encounter'].astype(object)\n",
    "\n",
    "print(f.shape)\n",
    "print(len(f['unique_patient_id'].unique()))"
   ]
  },
  {
   "cell_type": "code",
   "execution_count": 3,
   "metadata": {},
   "outputs": [],
   "source": [
    "def brief(f):\n",
    "    \n",
    "    file1 = open(\"file.txt\",\"w\")\n",
    "    \n",
    "    file1.write(\"\\n-----------------------------------\")\n",
    "    file1.write(\"\\nThis dataset has\"+\" \"+str(f.shape[0])+\" \"+\"Rows\"+\" \"+str(f.shape[1])+\" \"+\"Atributes\")\n",
    "    file1.write(\"\\n\\nreal value attributes\")\n",
    "    file1.write(\"\\n-----------------------------------\")\n",
    "    \n",
    "    \n",
    "    numerics = ['int16', 'int32', 'int64', 'float16', 'float32', 'float64']\n",
    "    \n",
    "    a=f.describe(include=numerics).round(2)\n",
    "    d=f.describe(include='all').T.reset_index().rename(columns={\"index\": \"Attribute_Name\"}).round(2)\n",
    "    \n",
    "    b= a.T.reset_index().rename(columns={\"index\": \"Attribute_Name\"})\n",
    "    \n",
    "    tr = pd.DataFrame({'Attribute_ID': [i for i in range(1,d.shape[0]+1)]})\n",
    "    tr=tr.join(d.Attribute_Name)\n",
    "    \n",
    "    i=np.array(d['Attribute_Name'].reset_index(drop = True))\n",
    "    ii=np.array(b['Attribute_Name'].reset_index(drop = True))\n",
    "    fin= np.isin(i, ii)\n",
    "    \n",
    "    final= np.where(fin)\n",
    "\n",
    "    sublist=[list(i) for i in final]\n",
    "    flat_list0 = list(np.concatenate(final))\n",
    "    flat_list= [x+1 for x in flat_list0]  #for numeric\n",
    "    \n",
    "    x = {v:k for v,k in enumerate(fin) if k == False}\n",
    "    d=[]\n",
    "\n",
    "    for name, age in x.items(): \n",
    "        d.append(name)\n",
    "    \n",
    "    flat0= [x for x in d] #for object\n",
    "    flat= [x+1 for x in d] #for object\n",
    "\n",
    "    df_drop = f.drop(f.columns[flat0], axis=1)  #for numeric\n",
    "    df_dropo = f.drop(f.columns[flat_list0], axis=1)  #for object\n",
    "    \n",
    "    #b.index=b.index + 1\n",
    "    b= b.rename(columns={\"50%\":\"Median\",\"mean\":\"Mean\",\"std\":\"Sdev\",\"min\":\"Min\",\"max\":\"Max\"})\n",
    "    \n",
    "    df = pd.DataFrame({'Attribute_ID': flat_list})\n",
    "    \n",
    "    \n",
    "    df=df.join(b.Attribute_Name)\n",
    "    df=df.join(pd.DataFrame({'Missing': df_drop.isnull().sum(axis=0).tolist()}))\n",
    "    df=df.join(b['Mean'])\n",
    "    df=df.join(b['Median'])\n",
    "    df=df.join(b['Sdev'])\n",
    "    df=df.join(b['Min'])\n",
    "    df=df.join(b['Max'])\n",
    "    df.index += 1 \n",
    "    \n",
    "    file1.write(\"\\n\"+str(df.to_string()))\n",
    "    file1.write(\"\\n\\nsymbolic attributes\")\n",
    "    file1.write(\"\\n-----------------------------------\")           \n",
    "    \n",
    "    a=f.describe(include=object).T.reset_index().rename(columns={\"index\": \"Attribute_Name\",\"unique\":\"arity\"})\n",
    "    \n",
    "    af = pd.DataFrame({'Attribute_ID': flat})\n",
    "    af=af.join(a['Attribute_Name'])   \n",
    "    af=af.join(pd.DataFrame({'Missing': df_dropo.isnull().sum(axis=0).tolist()}))\n",
    "    af=af.join(a['arity']) \n",
    "    df_dropo.dropna(inplace=True)\n",
    "    m,n= df_dropo.shape\n",
    "    df_dropo = df_dropo.astype(str)\n",
    "    \n",
    "    \n",
    "    f = pd.DataFrame(columns=['MCVs_counts'])\n",
    "    for i in range(n):\n",
    "        uni,counts= np.unique(df_dropo[df_dropo.columns[i]],return_counts=True)\n",
    "        c = sorted(counts,reverse=True)\n",
    "        count_sort_ind = np.argsort(-counts)\n",
    "        unique_des= uni[count_sort_ind]\n",
    "        uni=unique_des.tolist()\n",
    "        co=count_sort_ind.tolist()\n",
    "        if (len(unique_des))==1:\n",
    "            f= f.append({'MCVs_counts':str(unique_des[0])+'('+ str(c[0])+')'},ignore_index=True)\n",
    "        elif (len(unique_des))==2:\n",
    "            f= f.append({'MCVs_counts':str(unique_des[0])+'('+ str(c[0])+')'+\" \"+str(unique_des[1])+'('+ str(c[1])+')'},ignore_index=True)\n",
    "        else:\n",
    "            f= f.append({'MCVs_counts':str(unique_des[0])+'('+ str(c[0])+')'+\" \"+str(unique_des[1])+'('+ str(c[1])+')'+str(unique_des[2])+'('+ str(c[2])+')'},ignore_index=True)\n",
    "    \n",
    "    #af=af.concat(f['MCVs_counts'])    \n",
    "    f['MCVs_counts'] = f['MCVs_counts'].astype(str)\n",
    "    #aff=pd.concat([af, f],axis=0)\n",
    "    af=af.join(f) \n",
    "    af.index += 1 \n",
    "    \n",
    "    file1.write(\"\\n\"+str(af.to_string()))\n",
    "        \n",
    "    file1.close()\n",
    "    return \n",
    "\n",
    "brief(f)"
   ]
  },
  {
   "cell_type": "code",
   "execution_count": 4,
   "metadata": {},
   "outputs": [
    {
     "data": {
      "text/html": [
       "<div>\n",
       "<style scoped>\n",
       "    .dataframe tbody tr th:only-of-type {\n",
       "        vertical-align: middle;\n",
       "    }\n",
       "\n",
       "    .dataframe tbody tr th {\n",
       "        vertical-align: top;\n",
       "    }\n",
       "\n",
       "    .dataframe thead th {\n",
       "        text-align: right;\n",
       "    }\n",
       "</style>\n",
       "<table border=\"1\" class=\"dataframe\">\n",
       "  <thead>\n",
       "    <tr style=\"text-align: right;\">\n",
       "      <th></th>\n",
       "      <th>visit_number</th>\n",
       "      <th>unique_patient_id</th>\n",
       "      <th>discharge_date</th>\n",
       "      <th>Time</th>\n",
       "      <th>Day</th>\n",
       "      <th>age</th>\n",
       "      <th>zip_code</th>\n",
       "      <th>race</th>\n",
       "      <th>sex</th>\n",
       "      <th>more_than_one_encounter</th>\n",
       "    </tr>\n",
       "  </thead>\n",
       "  <tbody>\n",
       "    <tr>\n",
       "      <th>0</th>\n",
       "      <td>328302775314</td>\n",
       "      <td>840049133</td>\n",
       "      <td>10/23/2017</td>\n",
       "      <td>8:05:00</td>\n",
       "      <td>PM</td>\n",
       "      <td>21</td>\n",
       "      <td>15147</td>\n",
       "      <td>Black</td>\n",
       "      <td>Female</td>\n",
       "      <td>False</td>\n",
       "    </tr>\n",
       "    <tr>\n",
       "      <th>1</th>\n",
       "      <td>254421805169</td>\n",
       "      <td>981115173</td>\n",
       "      <td>6/2/2017</td>\n",
       "      <td>10:56:00</td>\n",
       "      <td>AM</td>\n",
       "      <td>21</td>\n",
       "      <td>15206</td>\n",
       "      <td>Black</td>\n",
       "      <td>Female</td>\n",
       "      <td>False</td>\n",
       "    </tr>\n",
       "    <tr>\n",
       "      <th>2</th>\n",
       "      <td>254421995290</td>\n",
       "      <td>981115172</td>\n",
       "      <td>9/30/2017</td>\n",
       "      <td>2:44:00</td>\n",
       "      <td>AM</td>\n",
       "      <td>21</td>\n",
       "      <td>15206</td>\n",
       "      <td>Black</td>\n",
       "      <td>Female</td>\n",
       "      <td>False</td>\n",
       "    </tr>\n",
       "    <tr>\n",
       "      <th>3</th>\n",
       "      <td>880369055290</td>\n",
       "      <td>785542959</td>\n",
       "      <td>9/29/2017</td>\n",
       "      <td>7:47:00</td>\n",
       "      <td>PM</td>\n",
       "      <td>50</td>\n",
       "      <td>15206</td>\n",
       "      <td>Black</td>\n",
       "      <td>Female</td>\n",
       "      <td>False</td>\n",
       "    </tr>\n",
       "    <tr>\n",
       "      <th>4</th>\n",
       "      <td>406633045281</td>\n",
       "      <td>980953611</td>\n",
       "      <td>9/20/2017</td>\n",
       "      <td>11:06:00</td>\n",
       "      <td>PM</td>\n",
       "      <td>25</td>\n",
       "      <td>15212</td>\n",
       "      <td>Black</td>\n",
       "      <td>Female</td>\n",
       "      <td>False</td>\n",
       "    </tr>\n",
       "  </tbody>\n",
       "</table>\n",
       "</div>"
      ],
      "text/plain": [
       "   visit_number  unique_patient_id discharge_date      Time Day  age zip_code  \\\n",
       "0  328302775314          840049133     10/23/2017   8:05:00  PM   21    15147   \n",
       "1  254421805169          981115173       6/2/2017  10:56:00  AM   21    15206   \n",
       "2  254421995290          981115172      9/30/2017   2:44:00  AM   21    15206   \n",
       "3  880369055290          785542959      9/29/2017   7:47:00  PM   50    15206   \n",
       "4  406633045281          980953611      9/20/2017  11:06:00  PM   25    15212   \n",
       "\n",
       "    race     sex more_than_one_encounter  \n",
       "0  Black  Female                   False  \n",
       "1  Black  Female                   False  \n",
       "2  Black  Female                   False  \n",
       "3  Black  Female                   False  \n",
       "4  Black  Female                   False  "
      ]
     },
     "execution_count": 4,
     "metadata": {},
     "output_type": "execute_result"
    }
   ],
   "source": [
    "datafile1 = open('results-20181005-221531.csv', 'r') \n",
    "f= pd.read_csv(datafile1)\n",
    "\n",
    "f.head()\n",
    "f['more_than_one_encounter'] = f['more_than_one_encounter'].astype(object)\n",
    "\n",
    "f.head()"
   ]
  },
  {
   "cell_type": "code",
   "execution_count": 5,
   "metadata": {},
   "outputs": [
    {
     "data": {
      "text/plain": [
       "Text(0,0.5,'Count')"
      ]
     },
     "execution_count": 5,
     "metadata": {},
     "output_type": "execute_result"
    },
    {
     "data": {
      "image/png": "[encoded data removed]",
      "text/plain": [
       "<Figure size 1440x720 with 1 Axes>"
      ]
     },
     "metadata": {},
     "output_type": "display_data"
    }
   ],
   "source": [
    "#Top 10 Zipcode\n",
    "\n",
    "uni_zipcode= f['zip_code'].unique()\n",
    "number_uni_zipcode= Counter(f['zip_code'])\n",
    "dff = pd.DataFrame.from_dict(number_uni_zipcode,orient='index')\n",
    "dff = dff.rename(columns={'index':'Frequency at zipcode', 0:'count'})\n",
    "\n",
    "a= dff.sort_values(by='count', ascending=False)\n",
    "\n",
    "a.head(10).plot.bar(figsize=(20,10))\n",
    "plt.xlabel('Zipcode')\n",
    "plt.ylabel('Count')"
   ]
  },
  {
   "cell_type": "code",
   "execution_count": 6,
   "metadata": {},
   "outputs": [
    {
     "data": {
      "text/plain": [
       "Text(0,0.5,'Count')"
      ]
     },
     "execution_count": 6,
     "metadata": {},
     "output_type": "execute_result"
    },
    {
     "data": {
      "image/png": "[encoded data removed]",
      "text/plain": [
       "<Figure size 1440x720 with 1 Axes>"
      ]
     },
     "metadata": {},
     "output_type": "display_data"
    }
   ],
   "source": [
    "#Top 10 Races\n",
    "\n",
    "uni_zipcode= f['race'].unique()\n",
    "number_uni_zipcode= Counter(f['race'])\n",
    "dff = pd.DataFrame.from_dict(number_uni_zipcode,orient='index')\n",
    "dff = dff.rename(columns={'index':'Frequency at zipcode', 0:'count'})\n",
    "\n",
    "a= dff.sort_values(by='count', ascending=False)\n",
    "\n",
    "a.head(10).plot.bar(figsize=(20,10))\n",
    "plt.xlabel('race')\n",
    "plt.ylabel('Count')"
   ]
  },
  {
   "cell_type": "code",
   "execution_count": 7,
   "metadata": {},
   "outputs": [
    {
     "data": {
      "text/plain": [
       "Text(0,0.5,'Count')"
      ]
     },
     "execution_count": 7,
     "metadata": {},
     "output_type": "execute_result"
    },
    {
     "data": {
      "image/png": "[encoded data removed]",
      "text/plain": [
       "<Figure size 1440x720 with 1 Axes>"
      ]
     },
     "metadata": {},
     "output_type": "display_data"
    }
   ],
   "source": [
    "#Count for age\n",
    "\n",
    "uni_age= f['age'].unique()\n",
    "number_age= Counter(f['age'])\n",
    "dff = pd.DataFrame.from_dict(number_age,orient='index')\n",
    "dff = dff.rename(columns={'index':'Frequency at age', 0:'count'})\n",
    "\n",
    "a= dff.sort_values(by='count', ascending=False)\n",
    "\n",
    "a.plot.bar(figsize=(20,10))\n",
    "plt.xlabel('age')\n",
    "plt.ylabel('Count')\n"
   ]
  },
  {
   "cell_type": "code",
   "execution_count": 8,
   "metadata": {},
   "outputs": [
    {
     "data": {
      "text/plain": [
       "Text(0,0.5,'Count')"
      ]
     },
     "execution_count": 8,
     "metadata": {},
     "output_type": "execute_result"
    },
    {
     "data": {
      "image/png": "[encoded data removed]",
      "text/plain": [
       "<Figure size 1440x720 with 1 Axes>"
      ]
     },
     "metadata": {},
     "output_type": "display_data"
    }
   ],
   "source": [
    "#Count for females\n",
    "\n",
    "uni_age= f['sex'].unique()\n",
    "number_age= Counter(f['sex'])\n",
    "dff = pd.DataFrame.from_dict(number_age,orient='index')\n",
    "dff = dff.rename(columns={'index':'Frequency at sex', 0:'count'})\n",
    "\n",
    "a= dff.sort_values(by='count', ascending=False)\n",
    "\n",
    "a.plot.bar(figsize=(20,10))\n",
    "plt.xlabel('sex')\n",
    "plt.ylabel('Count')"
   ]
  },
  {
   "cell_type": "code",
   "execution_count": 9,
   "metadata": {},
   "outputs": [
    {
     "name": "stdout",
     "output_type": "stream",
     "text": [
      "      count\n",
      "2017   1509\n",
      "2018      1\n"
     ]
    }
   ],
   "source": [
    "#Year of frequent illness\n",
    "\n",
    "f['discharge_date'] = pd.to_datetime(f['discharge_date'])\n",
    "f['year'], f['month'] = f['discharge_date'].dt.year, f['discharge_date'].dt.month\n",
    "\n",
    "uni_year= f['year'].unique()\n",
    "number_year= Counter(f['year'])\n",
    "dff = pd.DataFrame.from_dict(number_year,orient='index')\n",
    "dff = dff.rename(columns={'index':'Frequency at year', 0:'count'})\n",
    "\n",
    "a= dff.sort_values(by='count', ascending=False)\n",
    "#b= f.sort_values(by='month', ascending=False).head(1)\n",
    "\n",
    "month = f['month'].loc[f['year'] == 2018]  #in year 2018\n",
    "\n",
    "print(a)"
   ]
  },
  {
   "cell_type": "code",
   "execution_count": 10,
   "metadata": {},
   "outputs": [
    {
     "data": {
      "text/plain": [
       "Text(0,0.5,'Count')"
      ]
     },
     "execution_count": 10,
     "metadata": {},
     "output_type": "execute_result"
    },
    {
     "data": {
      "image/png": "[encoded data removed]",
      "text/plain": [
       "<Figure size 1440x720 with 1 Axes>"
      ]
     },
     "metadata": {},
     "output_type": "display_data"
    }
   ],
   "source": [
    "#Seasonal Changes \n",
    "\n",
    "month = pd.DataFrame({'month': f['month'].loc[f['year'] == 2017]})\n",
    "number_age= Counter(month['month'])\n",
    "dff = pd.DataFrame.from_dict(number_age,orient='index')\n",
    "dff = dff.rename(columns={'index':'Frequency at sex', 0:'count'})\n",
    "\n",
    "a= dff.sort_values(by='count', ascending=False)\n",
    "\n",
    "a.plot.bar(figsize=(20,10))\n",
    "plt.xlabel('month')\n",
    "plt.ylabel('Count')"
   ]
  },
  {
   "cell_type": "code",
   "execution_count": 11,
   "metadata": {},
   "outputs": [
    {
     "data": {
      "text/plain": [
       "Text(0,0.5,'Count')"
      ]
     },
     "execution_count": 11,
     "metadata": {},
     "output_type": "execute_result"
    },
    {
     "data": {
      "image/png": "[encoded data removed]",
      "text/plain": [
       "<Figure size 1440x720 with 1 Axes>"
      ]
     },
     "metadata": {},
     "output_type": "display_data"
    }
   ],
   "source": [
    "#Revisiting doctor based on age\n",
    "#Child immune system is weak, so they are vulnerable to asthma\n",
    "\n",
    "Truest= f.loc[f['more_than_one_encounter'] == True]\n",
    "\n",
    "group= Truest.groupby('age')['more_than_one_encounter'].count()\n",
    "\n",
    "group= pd.DataFrame({'count': group})\n",
    "a= group.sort_values(by='count', ascending=False)\n",
    "\n",
    "a.plot.bar(figsize=(20,10))\n",
    "plt.xlabel('Age')\n",
    "plt.ylabel('Count')"
   ]
  },
  {
   "cell_type": "code",
   "execution_count": 12,
   "metadata": {},
   "outputs": [],
   "source": [
    "#Creating file using location for each zipcode\n",
    "\n",
    "import uszipcode\n",
    "searchEngine = uszipcode.SearchEngine()\n",
    "\n",
    "latt=[]\n",
    "lngg=[]\n",
    "\n",
    "for i in range(len(f['zip_code'])):\n",
    "    myZip = searchEngine.by_zipcode(f['zip_code'][i])\n",
    "    lat,lng = [myZip.lat,myZip.lng] ##population info may need further updated later\n",
    "    latt.append(lat)\n",
    "    lngg.append(lng)\n",
    "    \n",
    "\n",
    "pdd= pd.DataFrame({'zip': f['zip_code']})\n",
    "pd1= pd.DataFrame({'latitude': latt})\n",
    "pd2= pd.DataFrame({'longitude': lngg})\n",
    "\n",
    "pdd= pdd.join(pd1)\n",
    "pdd= pdd.join(pd2)\n",
    "\n",
    "pdd= pdd.dropna()\n",
    "\n",
    "pdd.to_csv('location.csv',index=False)"
   ]
  },
  {
   "cell_type": "code",
   "execution_count": 4,
   "metadata": {},
   "outputs": [
    {
     "ename": "ModuleNotFoundError",
     "evalue": "No module named 'gdal'",
     "output_type": "error",
     "traceback": [
      "\u001b[1;31m---------------------------------------------------------------------------\u001b[0m",
      "\u001b[1;31mModuleNotFoundError\u001b[0m                       Traceback (most recent call last)",
      "\u001b[1;32m<ipython-input-4-ee38efafc30b>\u001b[0m in \u001b[0;36m<module>\u001b[1;34m()\u001b[0m\n\u001b[1;32m----> 1\u001b[1;33m \u001b[1;32mimport\u001b[0m \u001b[0mgdal\u001b[0m\u001b[1;33m\u001b[0m\u001b[0m\n\u001b[0m",
      "\u001b[1;31mModuleNotFoundError\u001b[0m: No module named 'gdal'"
     ]
    }
   ],
   "source": [
    "import gdal"
   ]
  },
  {
   "cell_type": "code",
   "execution_count": null,
   "metadata": {},
   "outputs": [],
   "source": []
  }
 ],
 "metadata": {
  "kernelspec": {
   "display_name": "Python 3",
   "language": "python",
   "name": "python3"
  },
  "language_info": {
   "codemirror_mode": {
    "name": "ipython",
    "version": 3
   },
   "file_extension": ".py",
   "mimetype": "text/x-python",
   "name": "python",
   "nbconvert_exporter": "python",
   "pygments_lexer": "ipython3",
   "version": "3.6.5"
  }
 },
 "nbformat": 4,
 "nbformat_minor": 2
}
