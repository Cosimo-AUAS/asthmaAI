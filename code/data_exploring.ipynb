{
 "cells": [
  {
   "cell_type": "markdown",
   "metadata": {},
   "source": [
    "# summary of Air Quanlity data\n",
    "## Dataset of \"pm25_frm_daily_summary\"\n",
    "### (1) there are 301902 data items for PA\n",
    "### (2) from 1999-01-01 to 2017-12-31\t"
   ]
  },
  {
   "cell_type": "code",
   "execution_count": 12,
   "metadata": {},
   "outputs": [],
   "source": [
    "# map the zip code to the longitude and latitude \n",
    "import uszipcode\n",
    "searchEngine = uszipcode.SearchEngine()\n",
    "def GetZipCodeInfo(zipCode,searchEngine):\n",
    "    myZip = searchEngine.by_zipcode(zipCode)\n",
    "    population,lat,lng = [myZip.population,myZip.lat,myZip.lng] # population info may need further updated later\n",
    "    return population,lat,lng"
   ]
  },
  {
   "cell_type": "code",
   "execution_count": null,
   "metadata": {},
   "outputs": [],
   "source": [
    "# Load air condition data\n",
    "def LoadAQI(p=\"../data/\"):\n",
    "    "
   ]
  },
  {
   "cell_type": "code",
   "execution_count": null,
   "metadata": {},
   "outputs": [],
   "source": [
    "import pickle\n",
    "# load sorted real data {zipcode:[data of visiting]}, data of visiting is in format \"Day-Month-Year\"\n",
    "def LoadDict(p=\"../result/dict.pkl\"):\n",
    "    return pickle.load(open(p))"
   ]
  }
 ],
 "metadata": {
  "kernelspec": {
   "display_name": "Python 3",
   "language": "python",
   "name": "python3"
  },
  "language_info": {
   "codemirror_mode": {
    "name": "ipython",
    "version": 3
   },
   "file_extension": ".py",
   "mimetype": "text/x-python",
   "name": "python",
   "nbconvert_exporter": "python",
   "pygments_lexer": "ipython3",
   "version": "3.6.5"
  }
 },
 "nbformat": 4,
 "nbformat_minor": 2
}
