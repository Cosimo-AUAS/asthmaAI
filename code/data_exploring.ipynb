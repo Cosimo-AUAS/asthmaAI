{
 "cells": [
  {
   "cell_type": "markdown",
   "metadata": {},
   "source": [
    "# summary of Air Quanlity data\n",
    "## Dataset of \"pm25_frm_daily_summary\"\n",
    "### (1) there are 301902 data items for PA\n",
    "### (2) from 1999-01-01 to 2017-12-31\t"
   ]
  },
  {
   "cell_type": "code",
   "execution_count": 37,
   "metadata": {},
   "outputs": [
    {
     "name": "stdout",
     "output_type": "stream",
     "text": [
      "(21102, 40.75, -73.99)\n"
     ]
    }
   ],
   "source": [
    "# map the zip code to the longitude and latitude \n",
    "import numpy as np\n",
    "import uszipcode\n",
    "global sarchEngine \n",
    "searchEngine = uszipcode.SearchEngine()\n",
    "def GetZipCodeInfo(zipCode):\n",
    "    global searchEngine\n",
    "    myZip = searchEngine.by_zipcode(zipCode)\n",
    "    population,lat,lng = [myZip.population,myZip.lat,myZip.lng] # population info may need further updated later\n",
    "    return population,lat,lng\n",
    "print(GetZipCodeInfo(\"10001\"))"
   ]
  },
  {
   "cell_type": "code",
   "execution_count": 40,
   "metadata": {},
   "outputs": [],
   "source": [
    "import pandas as pd\n",
    "import numpy as np\n",
    "from sklearn.neighbors import NearestNeighbors\n",
    "import matplotlib.pyplot as plt\n",
    "from sklearn import linear_model\n",
    "import sys\n",
    "from collections import Counter"
   ]
  },
  {
   "cell_type": "code",
   "execution_count": 54,
   "metadata": {},
   "outputs": [
    {
     "name": "stdout",
     "output_type": "stream",
     "text": [
      "{'15211': [40.43, -80.02], '10001': [40.75, -73.99]}\n",
      "! ('15211', 3.970050377514118)\n"
     ]
    }
   ],
   "source": [
    "import math\n",
    "def EuDist(locA,locB):\n",
    "    x1,y1 = locA\n",
    "    x2,y2 = locB\n",
    "    return math.sqrt((x1-x2)**2+(y1-y2)**2)\n",
    "\n",
    "# return the nearest zipCode according to loc\n",
    "def NearZipCode(loc,zipDict):\n",
    "    minDist = 1000000000 # set it a huge value\n",
    "    minZip = \"\"\n",
    "    for tmpZip in zipDict.keys():\n",
    "        tmpLoc = zipDict[tmpZip]\n",
    "        tmpDist = EuDist(tmpLoc,loc)\n",
    "        if tmpDist<minDist:\n",
    "            minDist = tmpDist\n",
    "            minZip = tmpZip\n",
    "    if minZip == \"\":\n",
    "        print(\"err in NearZipcode\")\n",
    "    return minZip,minDist\n",
    "\n",
    "def getZipLst():\n",
    "#     here return a list of zipcode that we cares about\n",
    "    return [\"15211\",\"10001\"]\n",
    "\n",
    "# from a list of zipcodes, return a diction [zipcode:loc]\n",
    "def getZipDict(zipLst):\n",
    "    r = {}\n",
    "    for zipCode in zipLst:\n",
    "        population,lat,lng = GetZipCodeInfo(zipCode)\n",
    "        r[zipCode] = [lat,lng]\n",
    "    return r\n",
    "r = getZipDict(getZipLst())\n",
    "print(r)\n",
    "test_loc = [44.4,-80]\n",
    "print(\"!\",NearZipCode(test_loc,r))"
   ]
  },
  {
   "cell_type": "code",
   "execution_count": 19,
   "metadata": {},
   "outputs": [],
   "source": [
    "import pickle\n",
    "# load sorted real data {zipcode:[data of visiting]}, data of visiting is in format \"Day-Month-Year\"\n",
    "def LoadDict(p=\"../result/dict.pkl\"):\n",
    "    return pickle.load(open(p))"
   ]
  },
  {
   "cell_type": "code",
   "execution_count": 58,
   "metadata": {},
   "outputs": [
    {
     "name": "stdout",
     "output_type": "stream",
     "text": [
      "../data/aqi/aqi_1.csv\n",
      "{'10001': [44.0, 40.53448275862069, 34.93103448275862, 29.357142857142858, 42.26923076923077, 44.08, 46.0, 38.54237288135593, 44.2, 50.86440677966102, 40.22857142857143, 40.666666666666664, 40.53333333333333, 44.36, 49.0, 41.25, 28.0625, 43.38461538461539, 39.70175438596491, 44.416666666666664, 34.3125], '15211': [26.466666666666665, 39.3, 32.13333333333333, 29.352941176470587, 44.22222222222222, 48.93333333333333, 29.166666666666668, 36.06666666666667, 38.666666666666664, 33.75, 56.13333333333333, 38.666666666666664, 33.75, 46.51020408163265, 41.193548387096776, 45.03333333333333, 47.1, 34.0, 32.644444444444446, 34.65, 26.666666666666668, 31.771929824561404, 21.133333333333333]}\n"
     ]
    }
   ],
   "source": [
    "# read aqi data\n",
    "import csv\n",
    "global aqiDir\n",
    "aqiDir = \"../data/aqi/\"\n",
    "# return the average aqi for each month, of each loc\n",
    "def GetAqiAve(Month):\n",
    "    global aqiDir\n",
    "    r = {}\n",
    "    p = aqiDir + \"aqi_{}.csv\".format(Month)\n",
    "    print(p)\n",
    "    with open(p) as csv_file:\n",
    "        csv_reader = csv.reader(csv_file, delimiter=',')\n",
    "        idx = 0\n",
    "        for row in csv_reader:  \n",
    "            idx = idx+1\n",
    "            if idx == 1:\n",
    "                continue\n",
    "            lat,lgn,_,aqi = row\n",
    "            lat = float(lat)\n",
    "            lgn = float(lgn)\n",
    "            loc = (lat,lgn)\n",
    "            if loc not in r:\n",
    "                r[loc] = []\n",
    "            r[loc].append(int(aqi))\n",
    "    ret = {}\n",
    "    for loc in r.keys():\n",
    "        ret[loc] = np.array(r[loc]).mean()\n",
    "            \n",
    "    return ret\n",
    "# return a dict of average for the zipcode in zip list\n",
    "def GetAqiZipDict(zipLst,aqiDict):\n",
    "    zipDict = getZipDict(zipLst)\n",
    "    r = {}\n",
    "    for loc in aqiDict:\n",
    "        tmpZip,d = NearZipCode(loc,zipDict)\n",
    "        if tmpZip not in r:\n",
    "            r[tmpZip] = []\n",
    "        r[tmpZip].append(aqiDict[loc])\n",
    "    return r\n",
    "\n",
    "zipLst = getZipLst()\n",
    "aqiDict = GetAqiAve(1)\n",
    "r = GetAqiZipDict(zipLst,aqiDict)\n",
    "print(r)\n",
    "\n"
   ]
  },
  {
   "cell_type": "code",
   "execution_count": 42,
   "metadata": {},
   "outputs": [
    {
     "data": {
      "text/html": [
       "<div>\n",
       "<style scoped>\n",
       "    .dataframe tbody tr th:only-of-type {\n",
       "        vertical-align: middle;\n",
       "    }\n",
       "\n",
       "    .dataframe tbody tr th {\n",
       "        vertical-align: top;\n",
       "    }\n",
       "\n",
       "    .dataframe thead th {\n",
       "        text-align: right;\n",
       "    }\n",
       "</style>\n",
       "<table border=\"1\" class=\"dataframe\">\n",
       "  <thead>\n",
       "    <tr style=\"text-align: right;\">\n",
       "      <th></th>\n",
       "      <th>visit_number</th>\n",
       "      <th>unique_patient_id</th>\n",
       "      <th>discharge_date</th>\n",
       "      <th>Time</th>\n",
       "      <th>Day</th>\n",
       "      <th>age</th>\n",
       "      <th>zip_code</th>\n",
       "      <th>race</th>\n",
       "      <th>sex</th>\n",
       "      <th>more_than_one_encounter</th>\n",
       "    </tr>\n",
       "  </thead>\n",
       "  <tbody>\n",
       "    <tr>\n",
       "      <th>0</th>\n",
       "      <td>328302775314</td>\n",
       "      <td>840049133</td>\n",
       "      <td>10/23/2017</td>\n",
       "      <td>8:05:00</td>\n",
       "      <td>PM</td>\n",
       "      <td>21</td>\n",
       "      <td>15147</td>\n",
       "      <td>Black</td>\n",
       "      <td>Female</td>\n",
       "      <td>False</td>\n",
       "    </tr>\n",
       "    <tr>\n",
       "      <th>1</th>\n",
       "      <td>254421805169</td>\n",
       "      <td>981115173</td>\n",
       "      <td>6/2/2017</td>\n",
       "      <td>10:56:00</td>\n",
       "      <td>AM</td>\n",
       "      <td>21</td>\n",
       "      <td>15206</td>\n",
       "      <td>Black</td>\n",
       "      <td>Female</td>\n",
       "      <td>False</td>\n",
       "    </tr>\n",
       "    <tr>\n",
       "      <th>2</th>\n",
       "      <td>254421995290</td>\n",
       "      <td>981115172</td>\n",
       "      <td>9/30/2017</td>\n",
       "      <td>2:44:00</td>\n",
       "      <td>AM</td>\n",
       "      <td>21</td>\n",
       "      <td>15206</td>\n",
       "      <td>Black</td>\n",
       "      <td>Female</td>\n",
       "      <td>False</td>\n",
       "    </tr>\n",
       "    <tr>\n",
       "      <th>3</th>\n",
       "      <td>880369055290</td>\n",
       "      <td>785542959</td>\n",
       "      <td>9/29/2017</td>\n",
       "      <td>7:47:00</td>\n",
       "      <td>PM</td>\n",
       "      <td>50</td>\n",
       "      <td>15206</td>\n",
       "      <td>Black</td>\n",
       "      <td>Female</td>\n",
       "      <td>False</td>\n",
       "    </tr>\n",
       "    <tr>\n",
       "      <th>4</th>\n",
       "      <td>406633045281</td>\n",
       "      <td>980953611</td>\n",
       "      <td>9/20/2017</td>\n",
       "      <td>11:06:00</td>\n",
       "      <td>PM</td>\n",
       "      <td>25</td>\n",
       "      <td>15212</td>\n",
       "      <td>Black</td>\n",
       "      <td>Female</td>\n",
       "      <td>False</td>\n",
       "    </tr>\n",
       "  </tbody>\n",
       "</table>\n",
       "</div>"
      ],
      "text/plain": [
       "   visit_number  unique_patient_id discharge_date      Time Day  age zip_code  \\\n",
       "0  328302775314          840049133     10/23/2017   8:05:00  PM   21    15147   \n",
       "1  254421805169          981115173       6/2/2017  10:56:00  AM   21    15206   \n",
       "2  254421995290          981115172      9/30/2017   2:44:00  AM   21    15206   \n",
       "3  880369055290          785542959      9/29/2017   7:47:00  PM   50    15206   \n",
       "4  406633045281          980953611      9/20/2017  11:06:00  PM   25    15212   \n",
       "\n",
       "    race     sex more_than_one_encounter  \n",
       "0  Black  Female                   False  \n",
       "1  Black  Female                   False  \n",
       "2  Black  Female                   False  \n",
       "3  Black  Female                   False  \n",
       "4  Black  Female                   False  "
      ]
     },
     "execution_count": 42,
     "metadata": {},
     "output_type": "execute_result"
    }
   ],
   "source": [
    "# get asthma result \n",
    "datafile1 = open('../data/results-20181005-221531.csv', 'r') \n",
    "f= pd.read_csv(datafile1)\n",
    "\n",
    "f.head()\n",
    "f['more_than_one_encounter'] = f['more_than_one_encounter'].astype(object)\n",
    "\n",
    "f.head()"
   ]
  },
  {
   "cell_type": "code",
   "execution_count": null,
   "metadata": {},
   "outputs": [],
   "source": []
  }
 ],
 "metadata": {
  "kernelspec": {
   "display_name": "Python 3",
   "language": "python",
   "name": "python3"
  },
  "language_info": {
   "codemirror_mode": {
    "name": "ipython",
    "version": 3
   },
   "file_extension": ".py",
   "mimetype": "text/x-python",
   "name": "python",
   "nbconvert_exporter": "python",
   "pygments_lexer": "ipython3",
   "version": "3.6.5"
  }
 },
 "nbformat": 4,
 "nbformat_minor": 2
}
